{
  "nbformat": 4,
  "nbformat_minor": 0,
  "metadata": {
    "colab": {
      "provenance": [],
      "gpuType": "T4",
      "mount_file_id": "1DPTUtIe_VkhNjWwJFw8cnqoK1UDU8cBD",
      "authorship_tag": "ABX9TyOpdxxPsd2wViWZrSXX8LNz",
      "include_colab_link": true
    },
    "kernelspec": {
      "name": "python3",
      "display_name": "Python 3"
    },
    "language_info": {
      "name": "python"
    },
    "accelerator": "GPU"
  },
  "cells": [
    {
      "cell_type": "markdown",
      "metadata": {
        "id": "view-in-github",
        "colab_type": "text"
      },
      "source": [
        "<a href=\"https://colab.research.google.com/github/hemalathasrianusuri/Leaf_Disease_Detection-_Using_CNN/blob/main/leaf_and_non_leaf_prediction.ipynb\" target=\"_parent\"><img src=\"https://colab.research.google.com/assets/colab-badge.svg\" alt=\"Open In Colab\"/></a>"
      ]
    },
    {
      "cell_type": "code",
      "source": [
        "import tensorflow as tf\n",
        "from tensorflow.keras.models import load_model\n",
        "import numpy as np\n"
      ],
      "metadata": {
        "id": "86MDQzWr4t1t"
      },
      "execution_count": null,
      "outputs": []
    },
    {
      "cell_type": "code",
      "source": [
        "# Load the saved model\n",
        "model = load_model('/content/drive/MyDrive/leaf_nonLeaf.hdf5')"
      ],
      "metadata": {
        "id": "9Mp-QlkEdqLD"
      },
      "execution_count": null,
      "outputs": []
    },
    {
      "cell_type": "code",
      "source": [
        "#  # Function to predict the given image\n",
        "# def predict_image(image_path, img_size):\n",
        "#     img = tf.keras.preprocessing.image.load_img(image_path, target_size=img_size)\n",
        "#     img_array = tf.keras.preprocessing.image.img_to_array(img)\n",
        "#     img_array = np.expand_dims(img_array, axis=0)\n",
        "#     # Predict the image class\n",
        "#     prediction = model.predict(img_array)\n",
        "#     class_index = np.argmax(prediction[0])\n",
        "#     return class_index"
      ],
      "metadata": {
        "id": "WNxeSl_u4qkI"
      },
      "execution_count": null,
      "outputs": []
    },
    {
      "cell_type": "code",
      "source": [
        "# Function to predict the given image\n",
        "def predict_image(image_file, img_size):\n",
        "    img = tf.keras.preprocessing.image.load_img(image_file, target_size=img_size)\n",
        "    img_array = tf.keras.preprocessing.image.img_to_array(img)\n",
        "    img_array = np.expand_dims(img_array, axis=0)\n",
        "    # Predict the image class\n",
        "    prediction = model.predict(img_array)\n",
        "    class_index = np.argmax(prediction[0])\n",
        "    return class_index"
      ],
      "metadata": {
        "id": "m6H1zZ-5G1dP"
      },
      "execution_count": null,
      "outputs": []
    },
    {
      "cell_type": "code",
      "source": [
        "d={0:'aeroplane',\n",
        " 1:'beach',\n",
        " 2:'bench',\n",
        " 3:'bike',\n",
        " 4:'book',\n",
        " 5:'bottle',\n",
        " 6:'car',\n",
        " 7:'cat',\n",
        " 8:'chair',\n",
        " 9:'dog',\n",
        " 10:'flags',\n",
        " 11:'fruits',\n",
        " 12:'garbage bags',\n",
        " 13:'hand bag',\n",
        " 14:'leaf',\n",
        " 15:'paper',\n",
        " 16:'pens',\n",
        " 17:'plastic bags',\n",
        " 18:'sandals',\n",
        " 19:'shoes',\n",
        " 20:'sky',\n",
        " 21:'stars',\n",
        " 21:'table',\n",
        " 22:'windows',\n",
        " 23:'women'}"
      ],
      "metadata": {
        "id": "86N5hLAwfS_Y"
      },
      "execution_count": null,
      "outputs": []
    },
    {
      "cell_type": "code",
      "source": [
        "# Provide the path to the input image\n",
        "input_image_path = '/content/00a90bbc-a12c-426d-bcc8-fadb371ea6d0___UMD_Powd.M 0358.JPG'"
      ],
      "metadata": {
        "id": "dwVUxSkx4qxo"
      },
      "execution_count": null,
      "outputs": []
    },
    {
      "cell_type": "code",
      "source": [
        "img_size=(100,100)"
      ],
      "metadata": {
        "id": "w53Avwgj5mRj"
      },
      "execution_count": null,
      "outputs": []
    },
    {
      "cell_type": "code",
      "source": [
        "\n",
        "# Predict the input image\n",
        "predicted_class = predict_image(input_image_path,img_size)\n",
        "print(\"Predicted Class Index:\", d[predicted_class])"
      ],
      "metadata": {
        "colab": {
          "base_uri": "https://localhost:8080/"
        },
        "id": "nu7hl1sS47vT",
        "outputId": "1e0bb02b-fb90-4fd8-e9b4-8ef7a5ed5e19"
      },
      "execution_count": null,
      "outputs": [
        {
          "output_type": "stream",
          "name": "stdout",
          "text": [
            "1/1 [==============================] - 9s 9s/step\n",
            "Predicted Class Index: leaf\n"
          ]
        }
      ]
    }
  ]
}