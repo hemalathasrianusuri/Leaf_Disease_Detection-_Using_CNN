{
  "cells": [
    {
      "cell_type": "markdown",
      "metadata": {
        "id": "view-in-github",
        "colab_type": "text"
      },
      "source": [
        "<a href=\"https://colab.research.google.com/github/hemalathasrianusuri/Leaf_Disease_Detection-_Using_CNN/blob/main/leaf.ipynb\" target=\"_parent\"><img src=\"https://colab.research.google.com/assets/colab-badge.svg\" alt=\"Open In Colab\"/></a>"
      ]
    },
    {
      "cell_type": "code",
      "execution_count": null,
      "metadata": {
        "id": "miq0bEMG0WcJ"
      },
      "outputs": [],
      "source": [
        "import pandas as pd\n",
        "import matplotlib.pyplot as plt\n",
        "import seaborn as sns\n",
        "import os\n",
        "import tensorflow as tf\n",
        "from tensorflow.keras import models,layers\n",
        "from sklearn.metrics import confusion_matrix\n",
        "import pathlib\n",
        "import numpy as np\n",
        "import random"
      ]
    },
    {
      "cell_type": "code",
      "execution_count": null,
      "metadata": {
        "id": "R2Z43AYf0WZX"
      },
      "outputs": [],
      "source": [
        "IMG= 100          # width of image\n",
        "BATCH= 64         # number of images for each batch\n",
        "EPOCH= 5"
      ]
    },
    {
      "cell_type": "code",
      "execution_count": null,
      "metadata": {
        "colab": {
          "base_uri": "https://localhost:8080/"
        },
        "id": "_s4Z16t5Z5Li",
        "outputId": "780fae65-c766-4c92-8569-5de7fc474ecc"
      },
      "outputs": [
        {
          "name": "stdout",
          "output_type": "stream",
          "text": [
            "Found 2879 files belonging to 25 classes.\n",
            "Using 2592 files for training.\n",
            "Using 287 files for validation.\n"
          ]
        }
      ],
      "source": [
        "temp_path=pathlib.Path(\"/content/drive/MyDrive/dataset\") # Setting up path for validation and testing data\n",
        "\n",
        "train_ds, test_ds=tf.keras.preprocessing.image_dataset_from_directory(temp_path, # path of directory where the data is located\n",
        "                                                             seed=111,           # seed value for reproducible results\n",
        "                                                   image_size=(IMG, IMG),        # size to resize images to after they are read\n",
        "                                                   batch_size=BATCH,\n",
        "                                                   validation_split=0.1,\n",
        "                                                   subset=\"both\")             # size of each batch"
      ]
    },
    {
      "cell_type": "code",
      "execution_count": null,
      "metadata": {
        "colab": {
          "base_uri": "https://localhost:8080/"
        },
        "id": "vdp7wYtIaAU7",
        "outputId": "0b804f31-5a2c-4fbe-cff0-8cea32bb80ca"
      },
      "outputs": [
        {
          "data": {
            "text/plain": [
              "['aeroplane',\n",
              " 'beach',\n",
              " 'bench',\n",
              " 'bike',\n",
              " 'book',\n",
              " 'bottle',\n",
              " 'car',\n",
              " 'cat',\n",
              " 'chair',\n",
              " 'dog',\n",
              " 'flags',\n",
              " 'fruits',\n",
              " 'garbage bags',\n",
              " 'hand bag',\n",
              " 'leaf',\n",
              " 'paper',\n",
              " 'pens',\n",
              " 'plastic bags',\n",
              " 'sandals',\n",
              " 'shoes',\n",
              " 'sky',\n",
              " 'stars',\n",
              " 'table',\n",
              " 'windows',\n",
              " 'women']"
            ]
          },
          "execution_count": 4,
          "metadata": {},
          "output_type": "execute_result"
        }
      ],
      "source": [
        "classes= train_ds.class_names\n",
        "classes"
      ]
    },
    {
      "cell_type": "code",
      "execution_count": null,
      "metadata": {
        "colab": {
          "background_save": true,
          "base_uri": "https://localhost:8080/"
        },
        "id": "lS26m7TVLboh",
        "outputId": "e10fd909-a3b7-48a0-a6d3-da78bafc25a9"
      },
      "outputs": [
        {
          "name": "stdout",
          "output_type": "stream",
          "text": [
            "Epoch 1/5\n",
            "41/41 [==============================] - 158s 3s/step - loss: 2.8522 - accuracy: 0.7076\n",
            "Epoch 2/5\n",
            "41/41 [==============================] - 109s 3s/step - loss: 0.9167 - accuracy: 0.8634\n",
            "Epoch 3/5\n",
            "41/41 [==============================] - 112s 3s/step - loss: 0.6772 - accuracy: 0.9190\n",
            "Epoch 4/5\n",
            "41/41 [==============================] - 108s 3s/step - loss: 0.5635 - accuracy: 0.9394\n",
            "Epoch 5/5\n",
            "41/41 [==============================] - 108s 3s/step - loss: 0.4676 - accuracy: 0.9614\n"
          ]
        }
      ],
      "source": [
        "random.seed(111) # seed value for reproducible results\n",
        "\n",
        "# Architecture of Convolutional Neural Network(CNN) Model\n",
        "\n",
        "model= models.Sequential([\n",
        "\n",
        "    layers.experimental.preprocessing.Rescaling(1.0/255),         # Re-scaling the input sample\n",
        "    layers.Conv2D(150, kernel_size=(2,2), padding=\"same\", activation=\"relu\", kernel_regularizer=tf.keras.regularizers.l2(0.005),\n",
        "                  input_shape=(IMG, IMG)), # Convolution Layer-1\n",
        "    layers.MaxPooling2D(pool_size=(2,2)), # Pooling Layer-1\n",
        "    layers.BatchNormalization(),\n",
        "    layers.Dropout(0.5),\n",
        "\n",
        "    layers.Conv2D(120, kernel_size=(2,2), activation=\"relu\", kernel_regularizer=tf.keras.regularizers.l2(0.003)), # Convolution Layer-2\n",
        "    layers.MaxPooling2D(pool_size=(2,2)), # Pooling Layer-2\n",
        "\n",
        "    layers.Conv2D(90, kernel_size=(2,2), activation=\"relu\", kernel_regularizer=tf.keras.regularizers.l2(0.001)), # Convolution Layer-2\n",
        "    layers.MaxPooling2D(pool_size=(2,2)), # Pooling Layer-2\n",
        "\n",
        "    layers.Flatten(), # Flattening the input vector\n",
        "    layers.Dense(1000, activation=\"relu\"), # Dense Layer\n",
        "    layers.Dense(25 , activation='softmax') # Output Layer\n",
        "])\n",
        "\n",
        "# Compiling the model\n",
        "model.compile(\n",
        "    optimizer=\"adam\",       # adam optimizer\n",
        "    loss=\"sparse_categorical_crossentropy\", # loss function\n",
        "    metrics=['accuracy']  # considering accuracy as a metric\n",
        ")\n",
        "\n",
        "history= model.fit(\n",
        "    train_ds,                 # training dataset\n",
        "    epochs=EPOCH,             # number of epochs\n",
        "    batch_size=BATCH,         # size of each batch\n",
        ")"
      ]
    },
    {
      "cell_type": "code",
      "execution_count": null,
      "metadata": {
        "colab": {
          "background_save": true
        },
        "id": "MI3c_eQSLbgs",
        "outputId": "f4769b94-ebd6-4b5c-eba0-5d1f7c140753"
      },
      "outputs": [
        {
          "name": "stdout",
          "output_type": "stream",
          "text": [
            "5/5 [==============================] - 6s 1s/step - loss: 1.4019 - accuracy: 0.9129\n"
          ]
        },
        {
          "data": {
            "text/plain": [
              "[1.4018571376800537, 0.9128919839859009]"
            ]
          },
          "execution_count": 15,
          "metadata": {},
          "output_type": "execute_result"
        }
      ],
      "source": [
        "model.evaluate(test_ds)"
      ]
    },
    {
      "cell_type": "code",
      "execution_count": null,
      "metadata": {
        "colab": {
          "background_save": true
        },
        "id": "PL_ICjaTLbX4"
      },
      "outputs": [],
      "source": [
        "model.save('model_final_team.hdf5')"
      ]
    }
  ],
  "metadata": {
    "accelerator": "GPU",
    "colab": {
      "provenance": [],
      "mount_file_id": "1JhRM-QmsvO3jKDaDprFlV1SmAkG1TVrr",
      "authorship_tag": "ABX9TyMLeJf/8mjPZE+jShbcG5jS",
      "include_colab_link": true
    },
    "kernelspec": {
      "display_name": "Python 3",
      "name": "python3"
    },
    "language_info": {
      "name": "python"
    }
  },
  "nbformat": 4,
  "nbformat_minor": 0
}